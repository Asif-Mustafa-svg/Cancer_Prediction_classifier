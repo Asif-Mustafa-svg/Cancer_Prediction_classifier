{
  "cells": [
    {
      "cell_type": "markdown",
      "metadata": {
        "id": "view-in-github",
        "colab_type": "text"
      },
      "source": [
        "<a href=\"https://colab.research.google.com/github/Asif-Mustafa-svg/Cancer_Prediction_classifier/blob/main/sarimax.ipynb\" target=\"_parent\"><img src=\"https://colab.research.google.com/assets/colab-badge.svg\" alt=\"Open In Colab\"/></a>"
      ]
    },
    {
      "cell_type": "code",
      "execution_count": null,
      "id": "7f2e5c3d",
      "metadata": {
        "id": "7f2e5c3d"
      },
      "outputs": [],
      "source": [
        "import pandas as pd\n",
        "import numpy as np\n",
        "import seaborn as sns\n",
        "import matplotlib.pyplot as plt\n",
        "import warnings\n",
        "warnings.filterwarnings('ignore')\n",
        "from statsmodels.tsa.stattools import adfuller\n",
        "%matplotlib inline\n",
        "from matplotlib import pyplot as plt\n",
        "plt.rcParams['figure.figsize'] = 12, 10\n",
        "import pandas as pd\n",
        "from scipy import stats\n",
        "import statsmodels.api as sm\n",
        "import matplotlib.pyplot as plt\n",
        "from itertools import product\n",
        "from statsmodels.tsa.arima.model import ARIMA\n",
        "from statsmodels.graphics.tsaplots import plot_acf, plot_pacf\n",
        "from sklearn.metrics import mean_absolute_error, mean_squared_error\n",
        "from tensorflow.keras.models import Sequential\n",
        "from tensorflow.keras.layers import LSTM, Dense\n",
        "from tensorflow.keras.optimizers import Adam\n",
        "from sklearn.preprocessing import MinMaxScaler\n",
        "from tensorflow.keras.models import Sequential\n",
        "from tensorflow.keras.layers import LSTM, Dense\n",
        "from tensorflow.keras.optimizers import Adam\n",
        "from statsmodels.tsa.seasonal import seasonal_decompose\n",
        "from statsmodels.tsa.arima.model import ARIMA\n",
        "from statsmodels.graphics.tsaplots import plot_ccf\n",
        "from statsmodels.tsa.statespace.sarimax import SARIMAX\n",
        "from sklearn.model_selection import train_test_split\n",
        "from statsmodels.tsa.statespace.sarimax import SARIMAX\n",
        "from sklearn.ensemble import RandomForestRegressor\n",
        "from sklearn.metrics import mean_squared_error\n",
        "from sklearn.model_selection import train_test_split\n",
        "from sklearn.preprocessing import StandardScaler"
      ]
    },
    {
      "cell_type": "code",
      "execution_count": null,
      "id": "54ed25cb",
      "metadata": {
        "colab": {
          "base_uri": "https://localhost:8080/",
          "height": 296
        },
        "id": "54ed25cb",
        "outputId": "250eabbd-ff50-4c7c-dd40-aea051a2b5ca"
      },
      "outputs": [
        {
          "output_type": "error",
          "ename": "FileNotFoundError",
          "evalue": "[Errno 2] No such file or directory: 'annual_co2_including_land_use.csv'",
          "traceback": [
            "\u001b[0;31m---------------------------------------------------------------------------\u001b[0m",
            "\u001b[0;31mFileNotFoundError\u001b[0m                         Traceback (most recent call last)",
            "\u001b[0;32m<ipython-input-5-5c68253b2d0f>\u001b[0m in \u001b[0;36m<cell line: 1>\u001b[0;34m()\u001b[0m\n\u001b[0;32m----> 1\u001b[0;31m \u001b[0mdf\u001b[0m\u001b[0;34m=\u001b[0m\u001b[0mpd\u001b[0m\u001b[0;34m.\u001b[0m\u001b[0mread_csv\u001b[0m\u001b[0;34m(\u001b[0m\u001b[0;34m\"annual_co2_including_land_use.csv\"\u001b[0m\u001b[0;34m)\u001b[0m\u001b[0;34m\u001b[0m\u001b[0;34m\u001b[0m\u001b[0m\n\u001b[0m",
            "\u001b[0;32m/usr/local/lib/python3.10/dist-packages/pandas/io/parsers/readers.py\u001b[0m in \u001b[0;36mread_csv\u001b[0;34m(filepath_or_buffer, sep, delimiter, header, names, index_col, usecols, dtype, engine, converters, true_values, false_values, skipinitialspace, skiprows, skipfooter, nrows, na_values, keep_default_na, na_filter, verbose, skip_blank_lines, parse_dates, infer_datetime_format, keep_date_col, date_parser, date_format, dayfirst, cache_dates, iterator, chunksize, compression, thousands, decimal, lineterminator, quotechar, quoting, doublequote, escapechar, comment, encoding, encoding_errors, dialect, on_bad_lines, delim_whitespace, low_memory, memory_map, float_precision, storage_options, dtype_backend)\u001b[0m\n\u001b[1;32m   1024\u001b[0m     \u001b[0mkwds\u001b[0m\u001b[0;34m.\u001b[0m\u001b[0mupdate\u001b[0m\u001b[0;34m(\u001b[0m\u001b[0mkwds_defaults\u001b[0m\u001b[0;34m)\u001b[0m\u001b[0;34m\u001b[0m\u001b[0;34m\u001b[0m\u001b[0m\n\u001b[1;32m   1025\u001b[0m \u001b[0;34m\u001b[0m\u001b[0m\n\u001b[0;32m-> 1026\u001b[0;31m     \u001b[0;32mreturn\u001b[0m \u001b[0m_read\u001b[0m\u001b[0;34m(\u001b[0m\u001b[0mfilepath_or_buffer\u001b[0m\u001b[0;34m,\u001b[0m \u001b[0mkwds\u001b[0m\u001b[0;34m)\u001b[0m\u001b[0;34m\u001b[0m\u001b[0;34m\u001b[0m\u001b[0m\n\u001b[0m\u001b[1;32m   1027\u001b[0m \u001b[0;34m\u001b[0m\u001b[0m\n\u001b[1;32m   1028\u001b[0m \u001b[0;34m\u001b[0m\u001b[0m\n",
            "\u001b[0;32m/usr/local/lib/python3.10/dist-packages/pandas/io/parsers/readers.py\u001b[0m in \u001b[0;36m_read\u001b[0;34m(filepath_or_buffer, kwds)\u001b[0m\n\u001b[1;32m    618\u001b[0m \u001b[0;34m\u001b[0m\u001b[0m\n\u001b[1;32m    619\u001b[0m     \u001b[0;31m# Create the parser.\u001b[0m\u001b[0;34m\u001b[0m\u001b[0;34m\u001b[0m\u001b[0m\n\u001b[0;32m--> 620\u001b[0;31m     \u001b[0mparser\u001b[0m \u001b[0;34m=\u001b[0m \u001b[0mTextFileReader\u001b[0m\u001b[0;34m(\u001b[0m\u001b[0mfilepath_or_buffer\u001b[0m\u001b[0;34m,\u001b[0m \u001b[0;34m**\u001b[0m\u001b[0mkwds\u001b[0m\u001b[0;34m)\u001b[0m\u001b[0;34m\u001b[0m\u001b[0;34m\u001b[0m\u001b[0m\n\u001b[0m\u001b[1;32m    621\u001b[0m \u001b[0;34m\u001b[0m\u001b[0m\n\u001b[1;32m    622\u001b[0m     \u001b[0;32mif\u001b[0m \u001b[0mchunksize\u001b[0m \u001b[0;32mor\u001b[0m \u001b[0miterator\u001b[0m\u001b[0;34m:\u001b[0m\u001b[0;34m\u001b[0m\u001b[0;34m\u001b[0m\u001b[0m\n",
            "\u001b[0;32m/usr/local/lib/python3.10/dist-packages/pandas/io/parsers/readers.py\u001b[0m in \u001b[0;36m__init__\u001b[0;34m(self, f, engine, **kwds)\u001b[0m\n\u001b[1;32m   1618\u001b[0m \u001b[0;34m\u001b[0m\u001b[0m\n\u001b[1;32m   1619\u001b[0m         \u001b[0mself\u001b[0m\u001b[0;34m.\u001b[0m\u001b[0mhandles\u001b[0m\u001b[0;34m:\u001b[0m \u001b[0mIOHandles\u001b[0m \u001b[0;34m|\u001b[0m \u001b[0;32mNone\u001b[0m \u001b[0;34m=\u001b[0m \u001b[0;32mNone\u001b[0m\u001b[0;34m\u001b[0m\u001b[0;34m\u001b[0m\u001b[0m\n\u001b[0;32m-> 1620\u001b[0;31m         \u001b[0mself\u001b[0m\u001b[0;34m.\u001b[0m\u001b[0m_engine\u001b[0m \u001b[0;34m=\u001b[0m \u001b[0mself\u001b[0m\u001b[0;34m.\u001b[0m\u001b[0m_make_engine\u001b[0m\u001b[0;34m(\u001b[0m\u001b[0mf\u001b[0m\u001b[0;34m,\u001b[0m \u001b[0mself\u001b[0m\u001b[0;34m.\u001b[0m\u001b[0mengine\u001b[0m\u001b[0;34m)\u001b[0m\u001b[0;34m\u001b[0m\u001b[0;34m\u001b[0m\u001b[0m\n\u001b[0m\u001b[1;32m   1621\u001b[0m \u001b[0;34m\u001b[0m\u001b[0m\n\u001b[1;32m   1622\u001b[0m     \u001b[0;32mdef\u001b[0m \u001b[0mclose\u001b[0m\u001b[0;34m(\u001b[0m\u001b[0mself\u001b[0m\u001b[0;34m)\u001b[0m \u001b[0;34m->\u001b[0m \u001b[0;32mNone\u001b[0m\u001b[0;34m:\u001b[0m\u001b[0;34m\u001b[0m\u001b[0;34m\u001b[0m\u001b[0m\n",
            "\u001b[0;32m/usr/local/lib/python3.10/dist-packages/pandas/io/parsers/readers.py\u001b[0m in \u001b[0;36m_make_engine\u001b[0;34m(self, f, engine)\u001b[0m\n\u001b[1;32m   1878\u001b[0m                 \u001b[0;32mif\u001b[0m \u001b[0;34m\"b\"\u001b[0m \u001b[0;32mnot\u001b[0m \u001b[0;32min\u001b[0m \u001b[0mmode\u001b[0m\u001b[0;34m:\u001b[0m\u001b[0;34m\u001b[0m\u001b[0;34m\u001b[0m\u001b[0m\n\u001b[1;32m   1879\u001b[0m                     \u001b[0mmode\u001b[0m \u001b[0;34m+=\u001b[0m \u001b[0;34m\"b\"\u001b[0m\u001b[0;34m\u001b[0m\u001b[0;34m\u001b[0m\u001b[0m\n\u001b[0;32m-> 1880\u001b[0;31m             self.handles = get_handle(\n\u001b[0m\u001b[1;32m   1881\u001b[0m                 \u001b[0mf\u001b[0m\u001b[0;34m,\u001b[0m\u001b[0;34m\u001b[0m\u001b[0;34m\u001b[0m\u001b[0m\n\u001b[1;32m   1882\u001b[0m                 \u001b[0mmode\u001b[0m\u001b[0;34m,\u001b[0m\u001b[0;34m\u001b[0m\u001b[0;34m\u001b[0m\u001b[0m\n",
            "\u001b[0;32m/usr/local/lib/python3.10/dist-packages/pandas/io/common.py\u001b[0m in \u001b[0;36mget_handle\u001b[0;34m(path_or_buf, mode, encoding, compression, memory_map, is_text, errors, storage_options)\u001b[0m\n\u001b[1;32m    871\u001b[0m         \u001b[0;32mif\u001b[0m \u001b[0mioargs\u001b[0m\u001b[0;34m.\u001b[0m\u001b[0mencoding\u001b[0m \u001b[0;32mand\u001b[0m \u001b[0;34m\"b\"\u001b[0m \u001b[0;32mnot\u001b[0m \u001b[0;32min\u001b[0m \u001b[0mioargs\u001b[0m\u001b[0;34m.\u001b[0m\u001b[0mmode\u001b[0m\u001b[0;34m:\u001b[0m\u001b[0;34m\u001b[0m\u001b[0;34m\u001b[0m\u001b[0m\n\u001b[1;32m    872\u001b[0m             \u001b[0;31m# Encoding\u001b[0m\u001b[0;34m\u001b[0m\u001b[0;34m\u001b[0m\u001b[0m\n\u001b[0;32m--> 873\u001b[0;31m             handle = open(\n\u001b[0m\u001b[1;32m    874\u001b[0m                 \u001b[0mhandle\u001b[0m\u001b[0;34m,\u001b[0m\u001b[0;34m\u001b[0m\u001b[0;34m\u001b[0m\u001b[0m\n\u001b[1;32m    875\u001b[0m                 \u001b[0mioargs\u001b[0m\u001b[0;34m.\u001b[0m\u001b[0mmode\u001b[0m\u001b[0;34m,\u001b[0m\u001b[0;34m\u001b[0m\u001b[0;34m\u001b[0m\u001b[0m\n",
            "\u001b[0;31mFileNotFoundError\u001b[0m: [Errno 2] No such file or directory: 'annual_co2_including_land_use.csv'"
          ]
        }
      ],
      "source": [
        "df=pd.read_csv(\"annual_co2_including_land_use.csv\")"
      ]
    },
    {
      "cell_type": "code",
      "execution_count": null,
      "id": "8c406e36",
      "metadata": {
        "colab": {
          "base_uri": "https://localhost:8080/",
          "height": 146
        },
        "id": "8c406e36",
        "outputId": "c107e06f-78dc-4b1a-f65d-a53186a87a19"
      },
      "outputs": [
        {
          "output_type": "error",
          "ename": "NameError",
          "evalue": "name 'df' is not defined",
          "traceback": [
            "\u001b[0;31m---------------------------------------------------------------------------\u001b[0m",
            "\u001b[0;31mNameError\u001b[0m                                 Traceback (most recent call last)",
            "\u001b[0;32m<ipython-input-4-629914d6d1c7>\u001b[0m in \u001b[0;36m<cell line: 1>\u001b[0;34m()\u001b[0m\n\u001b[0;32m----> 1\u001b[0;31m \u001b[0mdf\u001b[0m\u001b[0;34m.\u001b[0m\u001b[0misnull\u001b[0m\u001b[0;34m(\u001b[0m\u001b[0;34m)\u001b[0m\u001b[0;34m.\u001b[0m\u001b[0msum\u001b[0m\u001b[0;34m(\u001b[0m\u001b[0;34m)\u001b[0m\u001b[0;34m\u001b[0m\u001b[0;34m\u001b[0m\u001b[0m\n\u001b[0m",
            "\u001b[0;31mNameError\u001b[0m: name 'df' is not defined"
          ]
        }
      ],
      "source": [
        "df.isnull().sum()"
      ]
    },
    {
      "cell_type": "code",
      "execution_count": null,
      "id": "8231c8b6",
      "metadata": {
        "id": "8231c8b6"
      },
      "outputs": [],
      "source": [
        "df.describe()"
      ]
    },
    {
      "cell_type": "code",
      "execution_count": null,
      "id": "43b9ad07",
      "metadata": {
        "id": "43b9ad07"
      },
      "outputs": [],
      "source": [
        "df['Year']= pd.to_datetime(df['Year'], format='%Y')\n",
        "df.set_index('Year', inplace=True)"
      ]
    },
    {
      "cell_type": "code",
      "execution_count": null,
      "id": "1ef29d4f",
      "metadata": {
        "id": "1ef29d4f"
      },
      "outputs": [],
      "source": [
        "df.head()"
      ]
    },
    {
      "cell_type": "code",
      "source": [],
      "metadata": {
        "id": "A6FiMmWUY33K"
      },
      "id": "A6FiMmWUY33K",
      "execution_count": null,
      "outputs": []
    },
    {
      "cell_type": "code",
      "execution_count": null,
      "id": "3fd68638",
      "metadata": {
        "id": "3fd68638",
        "outputId": "59e4a1a3-73df-4be3-8478-9a8f703e1418",
        "colab": {
          "base_uri": "https://localhost:8080/",
          "height": 146
        }
      },
      "outputs": [
        {
          "output_type": "error",
          "ename": "NameError",
          "evalue": "name 'df' is not defined",
          "traceback": [
            "\u001b[0;31m---------------------------------------------------------------------------\u001b[0m",
            "\u001b[0;31mNameError\u001b[0m                                 Traceback (most recent call last)",
            "\u001b[0;32m<ipython-input-6-361ffd14831e>\u001b[0m in \u001b[0;36m<cell line: 1>\u001b[0;34m()\u001b[0m\n\u001b[0;32m----> 1\u001b[0;31m \u001b[0mdf\u001b[0m\u001b[0;34m[\u001b[0m\u001b[0;34m'CO2_emissions'\u001b[0m\u001b[0;34m]\u001b[0m\u001b[0;34m=\u001b[0m\u001b[0mdf\u001b[0m\u001b[0;34m[\u001b[0m\u001b[0;34m'Annual CO₂ emissions including land-use change'\u001b[0m\u001b[0;34m]\u001b[0m\u001b[0;34m\u001b[0m\u001b[0;34m\u001b[0m\u001b[0m\n\u001b[0m",
            "\u001b[0;31mNameError\u001b[0m: name 'df' is not defined"
          ]
        }
      ],
      "source": [
        "df['CO2_emissions']=df['Annual CO₂ emissions including land-use change']"
      ]
    },
    {
      "cell_type": "code",
      "execution_count": null,
      "id": "b7ffe696",
      "metadata": {
        "id": "b7ffe696"
      },
      "outputs": [],
      "source": []
    },
    {
      "cell_type": "code",
      "execution_count": null,
      "id": "d588e1f9",
      "metadata": {
        "id": "d588e1f9"
      },
      "outputs": [],
      "source": [
        "top50 = df.groupby(['Entity'])['CO2_emissions'].mean().sort_values(ascending=False).index[:50]\n",
        "height = df.groupby(['Entity'])['CO2_emissions'].mean().sort_values(ascending=False)[:50]\n",
        "\n",
        "fig, ax = plt.subplots(figsize=(15,10))\n",
        "plt.bar(x=top50 , height=height, color = 'mediumseagreen')\n",
        "\n",
        "plt.title(\"Mean CO2 Emissions Per Year \\n (1950-2022)\", fontsize=20)\n",
        "plt.ylabel('Mean Total CO2 Emission Per Year (Tonnes)', fontsize=15)\n",
        "for tick in ax.xaxis.get_major_ticks():\n",
        "    tick.label.set_fontsize(14)\n",
        "    tick.label.set_rotation('vertical')\n",
        "\n",
        "# Threshold to indicate countries above 150 mean tonnes\n",
        "threshold = 150\n",
        "plt.axhline(y=threshold,linewidth=2, linestyle='dashed', color='mediumblue')\n",
        "\n",
        "plt.show()\n",
        "\n",
        "# Uncomment below code only to save image\n",
        "#plt.savefig(\"images/mean_emissions_per_year_top50\")"
      ]
    },
    {
      "cell_type": "code",
      "execution_count": null,
      "id": "1d873dd8",
      "metadata": {
        "id": "1d873dd8"
      },
      "outputs": [],
      "source": [
        "top50 = df.groupby(['Entity'])['CO2_emissions'].mean().sort_values(ascending=True).index[:50]\n",
        "height = df.groupby(['Entity'])['CO2_emissions'].mean().sort_values(ascending=True)[:50]\n",
        "\n",
        "fig, ax = plt.subplots(figsize=(15,10))\n",
        "plt.bar(x=top50 , height=height, color = 'mediumseagreen')\n",
        "\n",
        "plt.title(\"Mean CO2 Emissions Per Year \\n (1950-2022)\", fontsize=20)\n",
        "plt.ylabel('Mean Total CO2 Emission Per Year (Tonnes)', fontsize=15)\n",
        "for tick in ax.xaxis.get_major_ticks():\n",
        "    tick.label.set_fontsize(14)\n",
        "    tick.label.set_rotation('vertical')\n",
        "\n",
        "# Threshold to indicate countries above 150 mean tonnes\n",
        "threshold = 150\n",
        "plt.axhline(y=threshold,linewidth=2, linestyle='dashed', color='mediumblue')\n",
        "\n",
        "plt.show()\n",
        "\n",
        "# Uncomment below code only to save image\n",
        "#plt.savefig(\"images/mean_emissions_per_year_top50\")"
      ]
    },
    {
      "cell_type": "code",
      "execution_count": null,
      "id": "b3ed46fd",
      "metadata": {
        "id": "b3ed46fd"
      },
      "outputs": [],
      "source": [
        "df_bangladesh= df[df['Entity'] == \"Bangladesh\"]"
      ]
    },
    {
      "cell_type": "code",
      "execution_count": null,
      "id": "679fc943",
      "metadata": {
        "id": "679fc943"
      },
      "outputs": [],
      "source": [
        "df_bangladesh.head()"
      ]
    },
    {
      "cell_type": "code",
      "execution_count": null,
      "id": "859c6934",
      "metadata": {
        "id": "859c6934"
      },
      "outputs": [],
      "source": [
        "z_scores = (df_bangladesh['CO2_emissions'] - df_bangladesh['CO2_emissions'].mean()) / df_bangladesh['CO2_emissions'].std()\n",
        "\n",
        "# Define threshold for outlier detection\n",
        "threshold = 3  # Z-score greater than 3 or less than -3 is considered an outlier\n",
        "\n",
        "# Detect outliers\n",
        "outliers = np.abs(z_scores) > threshold\n",
        "\n",
        "# Replace outliers with NaN\n",
        "df_bangladesh.loc[outliers, 'CO2_emissions'] = np.nan\n",
        "\n",
        "# Interpolate missing values\n",
        "df_bangladesh['CO2_emissions'] = df_bangladesh['CO2_emissions'].interpolate(method='linear')\n",
        "\n",
        "print(df_bangladesh)"
      ]
    },
    {
      "cell_type": "code",
      "execution_count": null,
      "id": "0401612a",
      "metadata": {
        "id": "0401612a"
      },
      "outputs": [],
      "source": [
        "# Perform ADF test on 'Emissions' column\n",
        "result = adfuller(df_bangladesh['CO2_emissions'])\n",
        "\n",
        "# Extract and print test results\n",
        "print('ADF Statistic:', result[0])\n",
        "print('p-value:', result[1])\n",
        "print('Critical Values:')\n",
        "for key, value in result[4].items():\n",
        "    print(f'   {key}: {value}')"
      ]
    },
    {
      "cell_type": "code",
      "execution_count": null,
      "id": "c43ffccd",
      "metadata": {
        "id": "c43ffccd"
      },
      "outputs": [],
      "source": [
        "# Decompose the time series to understand trend and seasonality\n",
        "from statsmodels.tsa.seasonal import seasonal_decompose\n",
        "\n",
        "decomposition = seasonal_decompose(df_bangladesh['CO2_emissions'], model='additive', period=12)\n",
        "trend = decomposition.trend\n",
        "seasonal = decomposition.seasonal\n",
        "residual = decomposition.resid\n",
        "\n",
        "plt.figure(figsize=(10, 8))\n",
        "plt.subplot(411)\n",
        "plt.plot(df_bangladesh.index, df_bangladesh['CO2_emissions'], label='Original')\n",
        "plt.legend(loc='upper left')\n",
        "plt.subplot(412)\n",
        "plt.plot(df_bangladesh.index, trend, label='Trend')\n",
        "plt.legend(loc='upper left')\n",
        "plt.subplot(413)\n",
        "plt.plot(df_bangladesh.index, seasonal, label='Seasonality')\n",
        "plt.legend(loc='upper left')\n",
        "plt.subplot(414)\n",
        "plt.plot(df_bangladesh.index, residual, label='Residuals')\n",
        "plt.legend(loc='upper left')\n",
        "plt.tight_layout()\n",
        "\n",
        "# Fit an ARIMA model\n",
        "model = ARIMA(df_bangladesh['CO2_emissions'], order=(1,1,1))\n",
        "results = model.fit()\n",
        "print(results.summary())\n"
      ]
    },
    {
      "cell_type": "code",
      "execution_count": null,
      "id": "5fb9c0c2",
      "metadata": {
        "id": "5fb9c0c2"
      },
      "outputs": [],
      "source": [
        "df_bangladesh['CO2_emissions_1']= df_bangladesh['CO2_emissions']-df_bangladesh['CO2_emissions'].shift(1)\n",
        "result = adfuller(df_bangladesh['CO2_emissions'].dropna())\n",
        "\n",
        "# Extract and print test results\n",
        "print('ADF Statistic:', result[0])\n",
        "print('p-value:', result[1])\n",
        "print('Critical Values:')\n",
        "for key, value in result[4].items():\n",
        "    print(f'   {key}: {value}')"
      ]
    },
    {
      "cell_type": "code",
      "execution_count": null,
      "id": "9d38c726",
      "metadata": {
        "id": "9d38c726"
      },
      "outputs": [],
      "source": [
        "df_bangladesh.head()\n",
        "df_bangladesh.tail()"
      ]
    },
    {
      "cell_type": "code",
      "execution_count": null,
      "id": "584b1348",
      "metadata": {
        "id": "584b1348"
      },
      "outputs": [],
      "source": [
        "df_bangladesh['CO2_emissions_1'].plot()"
      ]
    },
    {
      "cell_type": "code",
      "execution_count": null,
      "id": "a01f949e",
      "metadata": {
        "id": "a01f949e"
      },
      "outputs": [],
      "source": [
        "from statsmodels.tsa.seasonal import seasonal_decompose\n",
        "\n",
        "decomposition = seasonal_decompose(df_bangladesh['CO2_emissions_1'].fillna(df_bangladesh['CO2_emissions_1'].mean()), model='additive',period=12)\n",
        "trend = decomposition.trend\n",
        "seasonal = decomposition.seasonal\n",
        "residual = decomposition.resid\n",
        "\n",
        "plt.figure(figsize=(10, 8))\n",
        "plt.subplot(411)\n",
        "plt.plot(df_bangladesh.index, df_bangladesh['CO2_emissions_1'].fillna(df_bangladesh['CO2_emissions_1'].mean()), label='Original')\n",
        "plt.legend(loc='upper left')\n",
        "plt.subplot(412)\n",
        "plt.plot(df_bangladesh.index, trend, label='Trend')\n",
        "plt.legend(loc='upper left')\n",
        "plt.subplot(413)\n",
        "plt.plot(df_bangladesh.index, seasonal, label='Seasonality')\n",
        "plt.legend(loc='upper left')\n",
        "plt.subplot(414)\n",
        "plt.plot(df_bangladesh.index, residual, label='Residuals')\n",
        "plt.legend(loc='upper left')\n",
        "plt.tight_layout()\n",
        "\n"
      ]
    },
    {
      "cell_type": "code",
      "execution_count": null,
      "id": "db3cdc3f",
      "metadata": {
        "scrolled": true,
        "id": "db3cdc3f"
      },
      "outputs": [],
      "source": [
        "plt.figure(figsize=(12, 6))\n",
        "plot_acf(df_bangladesh['CO2_emissions_1'].fillna(df_bangladesh['CO2_emissions_1'].mean()), lags=40, ax=plt.gca())\n",
        "plt.title('Autocorrelation Function (ACF) - 1st Order Differenced Data')\n",
        "plt.xlabel('Lag')\n",
        "plt.ylabel('Autocorrelation')\n",
        "plt.show()\n",
        "\n",
        "# Plot partial autocorrelation function for differenced data\n",
        "plt.figure(figsize=(12, 6))\n",
        "plot_pacf(df_bangladesh['CO2_emissions_1'].fillna(df_bangladesh['CO2_emissions_1'].mean()), lags=30, ax=plt.gca())\n",
        "plt.title('Partial Autocorrelation Function (PACF) - 1st Order Differenced Data')\n",
        "plt.xlabel('Lag')\n",
        "plt.ylabel('Partial Autocorrelation')\n",
        "plt.show()"
      ]
    },
    {
      "cell_type": "code",
      "execution_count": null,
      "id": "c9dd882f",
      "metadata": {
        "id": "c9dd882f"
      },
      "outputs": [],
      "source": []
    },
    {
      "cell_type": "code",
      "execution_count": null,
      "id": "be47e28f",
      "metadata": {
        "id": "be47e28f"
      },
      "outputs": [],
      "source": []
    },
    {
      "cell_type": "code",
      "execution_count": null,
      "id": "e3cd1019",
      "metadata": {
        "id": "e3cd1019"
      },
      "outputs": [],
      "source": []
    },
    {
      "cell_type": "code",
      "execution_count": null,
      "id": "2380b372",
      "metadata": {
        "scrolled": true,
        "id": "2380b372"
      },
      "outputs": [],
      "source": [
        "df_bangladesh.head()"
      ]
    },
    {
      "cell_type": "code",
      "execution_count": null,
      "id": "9a0e0a20",
      "metadata": {
        "id": "9a0e0a20"
      },
      "outputs": [],
      "source": [
        "order = (2, 1, 0)  # Non-seasonal parameters\n",
        "seasonal_order = (2, 1, 0, 12)  # Seasonal parameters\n",
        "\n",
        "\n",
        "sarima_model = SARIMAX(df_bangladesh['CO2_emissions_1'], order=order, seasonal_order=seasonal_order)\n",
        "sarima_results = sarima_model.fit()\n",
        "\n",
        "# Model diagnostics\n",
        "sarima_results.plot_diagnostics(figsize=(12, 8))\n",
        "plt.show()\n",
        "\n",
        "# Forecasting\n",
        "forecast_steps = 12  # Number of steps ahead to forecast\n",
        "forecast = sarima_results.forecast(steps=forecast_steps)\n",
        "\n",
        "# Plotting\n",
        "plt.plot(df_bangladesh.index,df_bangladesh['CO2_emissions_1'], label='Observed')\n",
        "plt.plot(forecast.index, forecast, label='Forecast', color='red')\n",
        "plt.xlabel('Date')\n",
        "plt.ylabel('Emissions')\n",
        "plt.legend()\n",
        "plt.show()"
      ]
    },
    {
      "cell_type": "code",
      "execution_count": null,
      "id": "aa1b3db0",
      "metadata": {
        "id": "aa1b3db0"
      },
      "outputs": [],
      "source": [
        "mae = mean_absolute_error(df_bangladesh['CO2_emissions_1'][-forecast_steps:], forecast)\n",
        "print('Mean Absolute Error (MAE):', mae)\n",
        "\n",
        "# Calculate Mean Squared Error (MSE)\n",
        "mse = mean_squared_error(df_bangladesh['CO2_emissions_1'][-forecast_steps:], forecast)\n",
        "print('Mean Squared Error (MSE):', mse)\n",
        "\n",
        "# Calculate Root Mean Squared Error (RMSE)\n",
        "rmse = np.sqrt(mse)\n",
        "print('Root Mean Squared Error (RMSE):', rmse)"
      ]
    },
    {
      "cell_type": "code",
      "execution_count": null,
      "id": "379ad0fd",
      "metadata": {
        "id": "379ad0fd"
      },
      "outputs": [],
      "source": [
        "# Splitting the data into train and test sets\n",
        "train_data, test_data = train_test_split(df_bangladesh['CO2_emissions_1'], test_size=0.2, shuffle=False)\n",
        "\n",
        "# Define SARIMA model parameters\n",
        "order = (2, 1, 0)         # Non-seasonal parameters\n",
        "seasonal_order = (2, 1, 0, 12)  # Seasonal parameters\n",
        "\n",
        "# Build and fit SARIMA model on training data\n",
        "sarima_model = SARIMAX(train_data, order=order, seasonal_order=seasonal_order)\n",
        "sarima_results = sarima_model.fit()\n",
        "\n",
        "# Model diagnostics\n",
        "sarima_results.plot_diagnostics(figsize=(12, 8))\n",
        "plt.show()\n",
        "\n",
        "# Forecasting\n",
        "forecast_steps = len(test_data)  # Number of steps ahead to forecast is equal to the length of the test set\n",
        "forecast = sarima_results.forecast(steps=forecast_steps)\n",
        "\n",
        "# Plotting\n",
        "plt.plot(df_bangladesh.index[:len(train_data)], train_data, label='Train data')\n",
        "plt.plot(df_bangladesh.index[len(train_data):], test_data, label='Test data')\n",
        "plt.plot(df_bangladesh.index[len(train_data):], forecast, label='Forecast', color='black')\n",
        "plt.xlabel('Date')\n",
        "plt.ylabel('Emissions')\n",
        "plt.legend()\n",
        "plt.show()"
      ]
    },
    {
      "cell_type": "code",
      "execution_count": null,
      "id": "974d8f5f",
      "metadata": {
        "id": "974d8f5f"
      },
      "outputs": [],
      "source": [
        "# Calculate Mean Absolute Error (MAE)\n",
        "mae = mean_absolute_error(test_data, forecast)\n",
        "\n",
        "# Calculate Mean Squared Error (MSE)\n",
        "mse = mean_squared_error(test_data, forecast)\n",
        "\n",
        "print('Mean Absolute Error (MAE):', mae)\n",
        "print('Mean Squared Error (MSE):', mse)"
      ]
    },
    {
      "cell_type": "code",
      "execution_count": null,
      "id": "d73053fb",
      "metadata": {
        "id": "d73053fb"
      },
      "outputs": [],
      "source": [
        "df_bangladesh.head()"
      ]
    },
    {
      "cell_type": "code",
      "execution_count": null,
      "id": "664f4f8f",
      "metadata": {
        "id": "664f4f8f"
      },
      "outputs": [],
      "source": []
    },
    {
      "cell_type": "code",
      "execution_count": null,
      "id": "8f91ad0a",
      "metadata": {
        "id": "8f91ad0a"
      },
      "outputs": [],
      "source": [
        "df_bangladesh1=df_bangladesh['CO2_emissions']\n",
        "df_bangladesh1.head()"
      ]
    },
    {
      "cell_type": "code",
      "execution_count": null,
      "id": "25f9624e",
      "metadata": {
        "id": "25f9624e"
      },
      "outputs": [],
      "source": [
        "df_bangladesh.isnull().sum()\n",
        "df_bangladesh.fillna(df_bangladesh['CO2_emissions_1'].mean())"
      ]
    },
    {
      "cell_type": "code",
      "execution_count": null,
      "id": "cad79722",
      "metadata": {
        "scrolled": true,
        "id": "cad79722"
      },
      "outputs": [],
      "source": [
        "\n",
        "# Data preprocessing\n",
        "scaler1 = StandardScaler()\n",
        "scaled_data = scaler1.fit_transform(df_bangladesh['CO2_emissions'].values.reshape(-1, 1))\n",
        "\n",
        "# Define function to create input sequences for LSTM\n",
        "def create_sequences(data, seq_length):\n",
        "    X, y = [], []\n",
        "    for i in range(len(data) - seq_length):\n",
        "        X.append(data[i:(i + seq_length), 0])\n",
        "        y.append(data[i + seq_length, 0])\n",
        "    return np.array(X), np.array(y)\n",
        "\n",
        "# Set sequence length and split data into training and test sets\n",
        "sequence_length = 12  # Adjust as needed\n",
        "X, y = create_sequences(scaled_data, sequence_length)\n",
        "X_train, X_test = X[:-12], X[-12:]\n",
        "y_train, y_test = y[:-12], y[-12:]\n",
        "\n",
        "# Reshape input data for LSTM\n",
        "X_train = X_train.reshape(X_train.shape[0], X_train.shape[1], 1)\n",
        "X_test = X_test.reshape(X_test.shape[0], X_test.shape[1], 1)\n",
        "\n",
        "# Build LSTM model\n",
        "model = Sequential()\n",
        "model.add(LSTM(units=50, return_sequences=True, input_shape=(sequence_length, 1)))\n",
        "model.add(LSTM(units=50))\n",
        "model.add(Dense(units=1))\n",
        "\n",
        "# Compile model\n",
        "model.compile(optimizer='adam', loss='mean_squared_error')\n",
        "\n",
        "# Train model\n",
        "model.fit(X_train, y_train, epochs=115, batch_size=32)\n",
        "\n",
        "# Make predictions\n",
        "predictions = model.predict(X_test)\n",
        "predictions = scaler1.inverse_transform(predictions)\n",
        "\n",
        "# Calculate accuracy scores\n",
        "mae = mean_absolute_error(df_bangladesh['CO2_emissions'][-12:], predictions)\n",
        "mse = mean_squared_error(df_bangladesh['CO2_emissions'][-12:], predictions)\n",
        "rmse = np.sqrt(mse)\n",
        "\n",
        "print('Mean Absolute Error (MAE):', mae)\n",
        "print('Mean Squared Error (MSE):', mse)\n",
        "print('Root Mean Squared Error (RMSE):', rmse)\n",
        "\n",
        "# Plot results\n",
        "plt.plot(df_bangladesh.index[-12:], df_bangladesh['CO2_emissions'][-12:], label='Actual')\n",
        "plt.plot(df_bangladesh.index[-12:], predictions, label='Predicted', color='red')\n",
        "plt.xlabel('Date')\n",
        "plt.ylabel('Emissions')\n",
        "plt.legend()\n",
        "plt.show()"
      ]
    },
    {
      "cell_type": "code",
      "execution_count": null,
      "id": "3da74774",
      "metadata": {
        "id": "3da74774"
      },
      "outputs": [],
      "source": [
        "scaler1 = StandardScaler()\n",
        "scaled_data = scaler1.fit_transform(df_bangladesh['CO2_emissions'].values.reshape(-1, 1))\n",
        "\n",
        "print(\"Length of input data:\", len(scaled_data))\n",
        "\n",
        "sequence_length = 50\n",
        "\n",
        "# Adjust sequence length if it's larger than the length of input data\n",
        "sequence_length = min(sequence_length, len(scaled_data))\n",
        "\n",
        "# Create sequences of length 50\n",
        "X, y = create_sequences(scaled_data, sequence_length)\n",
        "\n",
        "# Check if there is sufficient data to create sequences\n",
        "if len(X) == 0 or len(y) == 0:\n",
        "    print(\"Error: Insufficient data to create sequences with the specified sequence length.\")\n",
        "else:\n",
        "    # Split data into training and test sets\n",
        "    X_train, X_test = X[:-12], X[-12:]\n",
        "    y_train, y_test = y[:-12], y[-12:]\n",
        "\n",
        "    # Reshape input data for LSTM\n",
        "    X_train = X_train.reshape(X_train.shape[0], X_train.shape[1], 1)\n",
        "    X_test = X_test.reshape(X_test.shape[0], X_test.shape[1], 1)\n",
        "\n",
        "    # Build LSTM model\n",
        "    model = Sequential()\n",
        "    model.add(LSTM(units=50, return_sequences=True, input_shape=(sequence_length, 1)))\n",
        "    model.add(LSTM(units=50))\n",
        "    model.add(Dense(units=1))\n",
        "\n",
        "    # Compile model\n",
        "    model.compile(optimizer='adam', loss='mean_squared_error')\n",
        "\n",
        "    # Train model\n",
        "    model.fit(X_train, y_train, epochs=100, batch_size=32)\n",
        "\n",
        "    # Make predictions\n",
        "    predictions = model.predict(X_test)\n",
        "    predictions = scaler1.inverse_transform(predictions)\n",
        "\n",
        "    # Calculate accuracy scores\n",
        "    mae = mean_absolute_error(df_bangladesh['CO2_emissions'][-12:], predictions)\n",
        "    mse = mean_squared_error(df_bangladesh['CO2_emissions'][-12:], predictions)\n",
        "    rmse = np.sqrt(mse)\n",
        "\n",
        "    print('Mean Absolute Error (MAE):', mae)\n",
        "    print('Mean Squared Error (MSE):', mse)\n",
        "    print('Root Mean Squared Error (RMSE):', rmse)\n",
        "\n",
        "    # Plot results\n",
        "    plt.plot(df_bangladesh.index[-12:], df_bangladesh['CO2_emissions'][-12:], label='Actual')\n",
        "    plt.plot(df_bangladesh.index[-12:], predictions, label='Predicted', color='red')\n",
        "    plt.xlabel('Date')\n",
        "    plt.ylabel('Emissions')\n",
        "    plt.legend()\n",
        "    plt.show()"
      ]
    },
    {
      "cell_type": "code",
      "execution_count": null,
      "id": "95078946",
      "metadata": {
        "id": "95078946"
      },
      "outputs": [],
      "source": [
        "from keras.layers import Dropout\n",
        "\n",
        "# Build LSTM model with adjusted architecture\n",
        "model = Sequential()\n",
        "model.add(LSTM(units=64, return_sequences=True, input_shape=(sequence_length, 1)))\n",
        "model.add(Dropout(0.2))  # Add dropout regularization\n",
        "model.add(LSTM(units=64, return_sequences=True))\n",
        "model.add(Dropout(0.2))  # Add dropout regularization\n",
        "model.add(LSTM(units=32))\n",
        "model.add(Dropout(0.2))  # Add dropout regularization\n",
        "model.add(Dense(units=1))\n",
        "\n",
        "# Compile model\n",
        "model.compile(optimizer='adam', loss='mean_squared_error')\n",
        "\n",
        "# Train model\n",
        "model.fit(X_train, y_train, epochs=100, batch_size=32)\n",
        "\n",
        "# Make predictions\n",
        "predictions = model.predict(X_test)\n",
        "predictions = scaler1.inverse_transform(predictions)\n",
        "\n",
        "# Calculate accuracy scores\n",
        "mae = mean_absolute_error(df_bangladesh['CO2_emissions'][-12:], predictions)\n",
        "mse = mean_squared_error(df_bangladesh['CO2_emissions'][-12:], predictions)\n",
        "rmse = np.sqrt(mse)\n",
        "\n",
        "print('Mean Absolute Error (MAE):', mae)\n",
        "print('Mean Squared Error (MSE):', mse)\n",
        "print('Root Mean Squared Error (RMSE):', rmse)\n",
        "\n",
        "# Plot results\n",
        "plt.plot(df_bangladesh.index[-12:], df_bangladesh['CO2_emissions'][-12:], label='Actual')\n",
        "plt.plot(df_bangladesh.index[-12:], predictions, label='Predicted', color='red')\n",
        "plt.xlabel('Date')\n",
        "plt.ylabel('Emissions')\n",
        "plt.legend()\n",
        "plt.show()"
      ]
    },
    {
      "cell_type": "code",
      "execution_count": null,
      "id": "231fe239",
      "metadata": {
        "id": "231fe239"
      },
      "outputs": [],
      "source": [
        "df_electricity=pd.read_csv(\"electricity-prod-source-stacked.csv\")"
      ]
    },
    {
      "cell_type": "code",
      "execution_count": null,
      "id": "dbc39fa3",
      "metadata": {
        "id": "dbc39fa3"
      },
      "outputs": [],
      "source": [
        "df_electricity.head()"
      ]
    },
    {
      "cell_type": "code",
      "execution_count": null,
      "id": "c16c7465",
      "metadata": {
        "id": "c16c7465"
      },
      "outputs": [],
      "source": [
        "df_electricity_bangladesh=df_electricity[df_electricity['Entity']==\"Bangladesh\"]"
      ]
    },
    {
      "cell_type": "code",
      "execution_count": null,
      "id": "f566cdce",
      "metadata": {
        "id": "f566cdce"
      },
      "outputs": [],
      "source": [
        "df_electricity_bangladesh.describe()"
      ]
    },
    {
      "cell_type": "code",
      "execution_count": null,
      "id": "82e78fb7",
      "metadata": {
        "id": "82e78fb7"
      },
      "outputs": [],
      "source": [
        "df_electricity_bangladesh.columns"
      ]
    },
    {
      "cell_type": "code",
      "execution_count": null,
      "id": "7f11eb93",
      "metadata": {
        "id": "7f11eb93"
      },
      "outputs": [],
      "source": [
        "a = {\n",
        "    'Other renewables excluding bioenergy - TWh (adapted for visualization of chart electricity-prod-source-stacked)':'renewables',\n",
        "    'Electricity from bioenergy - TWh (adapted for visualization of chart electricity-prod-source-stacked)': \"bioenergy\",\n",
        "    'Electricity from solar - TWh (adapted for visualization of chart electricity-prod-source-stacked)': 'solar',\n",
        "    'Electricity from wind - TWh (adapted for visualization of chart electricity-prod-source-stacked)': 'wind',\n",
        "    'Electricity from hydro - TWh (adapted for visualization of chart electricity-prod-source-stacked)': 'hydro',\n",
        "    'Electricity from nuclear - TWh (adapted for visualization of chart electricity-prod-source-stacked)': 'nuclear',\n",
        "    'Electricity from oil - TWh (adapted for visualization of chart electricity-prod-source-stacked)': 'oil',\n",
        "    'Electricity from gas - TWh (adapted for visualization of chart electricity-prod-source-stacked)': 'gas',\n",
        "    'Electricity from coal - TWh (adapted for visualization of chart electricity-prod-source-stacked)': 'coal'\n",
        "}\n",
        "\n",
        "# Rename the columns using the mapping dictionary\n",
        "df_electricity_bangladesh = df_electricity_bangladesh.rename(columns=a)"
      ]
    },
    {
      "cell_type": "code",
      "execution_count": null,
      "id": "b85f0172",
      "metadata": {
        "id": "b85f0172"
      },
      "outputs": [],
      "source": [
        "df_electricity_bangladesh.head()"
      ]
    },
    {
      "cell_type": "code",
      "execution_count": null,
      "id": "79b3607c",
      "metadata": {
        "id": "79b3607c"
      },
      "outputs": [],
      "source": [
        "df1=df_electricity_bangladesh.copy()\n",
        "\n",
        "df1['Year']= pd.to_datetime(df1['Year'], format='%Y')\n",
        "df1.set_index('Year', inplace=True)"
      ]
    },
    {
      "cell_type": "code",
      "execution_count": null,
      "id": "e2869065",
      "metadata": {
        "id": "e2869065"
      },
      "outputs": [],
      "source": [
        "df1.head()"
      ]
    },
    {
      "cell_type": "code",
      "execution_count": null,
      "id": "0d079df5",
      "metadata": {
        "id": "0d079df5"
      },
      "outputs": [],
      "source": [
        "concatenated_df = pd.concat([df, df1], axis=0)"
      ]
    },
    {
      "cell_type": "code",
      "execution_count": null,
      "id": "dbd6765f",
      "metadata": {
        "id": "dbd6765f"
      },
      "outputs": [],
      "source": [
        "concatenated_df.head()"
      ]
    },
    {
      "cell_type": "code",
      "execution_count": null,
      "id": "a20a4676",
      "metadata": {
        "id": "a20a4676"
      },
      "outputs": [],
      "source": [
        "last_23_rows = concatenated_df.tail(23)\n",
        "\n",
        "# Split the last 23 rows into a new DataFrame\n",
        "new_df = pd.DataFrame(last_23_rows)\n",
        "\n",
        "# Display the new DataFrame\n",
        "print(new_df)"
      ]
    },
    {
      "cell_type": "code",
      "execution_count": null,
      "id": "1af71589",
      "metadata": {
        "id": "1af71589"
      },
      "outputs": [],
      "source": [
        "new_df.head()"
      ]
    },
    {
      "cell_type": "code",
      "execution_count": null,
      "id": "6ac14a86",
      "metadata": {
        "id": "6ac14a86"
      },
      "outputs": [],
      "source": [
        "new_df.to_excel(\"new_df.xlsx\", index=False)"
      ]
    },
    {
      "cell_type": "code",
      "execution_count": null,
      "id": "cea0cd86",
      "metadata": {
        "id": "cea0cd86"
      },
      "outputs": [],
      "source": [
        "last_23_rows = df_bangladesh.tail(23)\n",
        "print(last_23_rows )"
      ]
    },
    {
      "cell_type": "code",
      "execution_count": null,
      "id": "728c4e54",
      "metadata": {
        "id": "728c4e54"
      },
      "outputs": [],
      "source": [
        "new_df1 = pd.read_excel(\"new_df1.xlsx\")"
      ]
    },
    {
      "cell_type": "code",
      "execution_count": null,
      "id": "3366ea42",
      "metadata": {
        "id": "3366ea42"
      },
      "outputs": [],
      "source": [
        "new_df1.head()"
      ]
    },
    {
      "cell_type": "code",
      "execution_count": null,
      "id": "d5ed4324",
      "metadata": {
        "id": "d5ed4324"
      },
      "outputs": [],
      "source": [
        "new_df1['Year']= pd.to_datetime(new_df1['Year'], format='%Y')\n",
        "new_df1.set_index('Year', inplace=True)"
      ]
    },
    {
      "cell_type": "code",
      "execution_count": null,
      "id": "cc5d199e",
      "metadata": {
        "id": "cc5d199e"
      },
      "outputs": [],
      "source": [
        "new_df1.head()"
      ]
    },
    {
      "cell_type": "code",
      "execution_count": null,
      "id": "82d68427",
      "metadata": {
        "id": "82d68427"
      },
      "outputs": [],
      "source": [
        "# Split data into train and test sets\n",
        "train_size = int(len(new_df1) * 0.8)\n",
        "train, test = new_df1.iloc[:train_size],new_df1.iloc[train_size:]\n",
        "\n",
        "# SARIMA model\n",
        "order = (2, 1, 0)  # ARIMA order\n",
        "seasonal_order = (2, 1, 0, 12)  # Seasonal order\n",
        "sarima_model = SARIMAX(train['CO2_emissions'], order=order, seasonal_order=seasonal_order)\n",
        "sarima_results = sarima_model.fit()\n",
        "sarima_forecast = sarima_results.forecast(steps=len(test))\n",
        "sarima_rmse = np.sqrt(mean_squared_error(test['CO2_emissions'], sarima_forecast))\n",
        "print(\"SARIMA RMSE:\", sarima_rmse)\n",
        "\n",
        "# SARIMAX model with exogenous variables\n",
        "exog_train = train[[\"renewables\",\"bioenergy\",\"solar\",\"wind\",\"hydro\",\"nuclear\",\"oil\",\"gas\",\"coal\"]]  # Example: exogenous variables\n",
        "exog_test = test[[\"renewables\",\"bioenergy\",\"solar\",\"wind\",\"hydro\",\"nuclear\",\"oil\",\"gas\",\"coal\"]]\n",
        "sarimax_model = SARIMAX(train['CO2_emissions'], order=order, seasonal_order=seasonal_order, exog=exog_train)\n",
        "sarimax_results = sarimax_model.fit()\n",
        "sarimax_forecast = sarimax_results.forecast(steps=len(test), exog=exog_test)\n",
        "sarimax_rmse = np.sqrt(mean_squared_error(test['CO2_emissions'], sarimax_forecast))\n",
        "print(\"SARIMAX RMSE:\", sarimax_rmse)\n",
        "\n",
        "# Machine learning-based model (Random Forest)\n",
        "rf_model = RandomForestRegressor(n_estimators=100)\n",
        "X_train, y_train = train[[\"renewables\",\"bioenergy\",\"solar\",\"wind\",\"hydro\",\"nuclear\",\"oil\",\"gas\",\"coal\"]], train['CO2_emissions']\n",
        "X_test, y_test = test[[\"renewables\",\"bioenergy\",\"solar\",\"wind\",\"hydro\",\"nuclear\",\"oil\",\"gas\",\"coal\"]], test['CO2_emissions']\n",
        "rf_model.fit(X_train, y_train)\n",
        "rf_forecast = rf_model.predict(X_test)\n",
        "rf_rmse = np.sqrt(mean_squared_error(y_test, rf_forecast))\n",
        "print(\"Random Forest RMSE:\", rf_rmse)"
      ]
    },
    {
      "cell_type": "code",
      "execution_count": null,
      "id": "2e735190",
      "metadata": {
        "id": "2e735190"
      },
      "outputs": [],
      "source": [
        "# Plot actual vs. predicted values for SARIMA\n",
        "plt.figure(figsize=(10, 6))\n",
        "plt.plot(test.index, test['CO2_emissions'], label='Actual')\n",
        "plt.plot(test.index, sarima_forecast, label='SARIMA Forecast')\n",
        "plt.title('Actual vs. SARIMA Forecast')\n",
        "plt.xlabel('Date')\n",
        "plt.ylabel('CO2 Emissions')\n",
        "plt.legend()\n",
        "plt.show()\n",
        "\n",
        "# Plot actual vs. predicted values for SARIMAX\n",
        "plt.figure(figsize=(10, 6))\n",
        "plt.plot(test.index, test['CO2_emissions'], label='Actual')\n",
        "plt.plot(test.index, sarimax_forecast, label='SARIMAX Forecast')\n",
        "plt.title('Actual vs. SARIMAX Forecast')\n",
        "plt.xlabel('Date')\n",
        "plt.ylabel('CO2 Emissions')\n",
        "plt.legend()\n",
        "plt.show()\n",
        "\n",
        "# Plot actual vs. predicted values for Random Forest\n",
        "plt.figure(figsize=(10, 6))\n",
        "plt.plot(test.index, test['CO2_emissions'], label='Actual')\n",
        "plt.plot(test.index, rf_forecast, label='Random Forest Forecast')\n",
        "plt.title('Actual vs. Random Forest Forecast')\n",
        "plt.xlabel('Date')\n",
        "plt.ylabel('CO2 Emissions')\n",
        "plt.legend()\n",
        "plt.show()\n"
      ]
    },
    {
      "cell_type": "code",
      "execution_count": null,
      "id": "12d289ab",
      "metadata": {
        "id": "12d289ab"
      },
      "outputs": [],
      "source": [
        "plt.figure(figsize=(10, 6))\n",
        "plt.scatter(new_df1['renewables'], new_df1['CO2_emissions'])\n",
        "plt.title('Renewables vs. CO2 Emissions')\n",
        "plt.xlabel('Renewables')\n",
        "plt.ylabel('CO2 Emissions')\n",
        "plt.grid(True)\n",
        "plt.show()\n",
        "\n",
        "# Scatter plot for bioenergy vs. CO2 emissions\n",
        "plt.figure(figsize=(10, 6))\n",
        "plt.scatter(new_df1['bioenergy'],new_df1['CO2_emissions'])\n",
        "plt.title('Bioenergy vs. CO2 Emissions')\n",
        "plt.xlabel('Bioenergy')\n",
        "plt.ylabel('CO2 Emissions')\n",
        "plt.grid(True)\n",
        "plt.show()\n",
        "\n",
        "# Repeat the above steps for solar, wind, hydro, nuclear, oil, gas, and coal columns\n",
        "# ...\n",
        "\n",
        "# Line plot showing the trend of each column over time\n",
        "plt.figure(figsize=(10, 6))\n",
        "for column in ['renewables', 'bioenergy', 'solar', 'wind', 'hydro', 'nuclear', 'oil', 'gas', 'coal']:\n",
        "    plt.plot(new_df1.index, new_df1[column], label=column)\n",
        "plt.title('Trend of Energy Sources Over Time')\n",
        "plt.xlabel('Date')\n",
        "plt.ylabel('Energy Production')\n",
        "plt.legend()\n",
        "plt.grid(True)\n",
        "plt.show()"
      ]
    },
    {
      "cell_type": "code",
      "execution_count": null,
      "id": "536a8fbe",
      "metadata": {
        "id": "536a8fbe"
      },
      "outputs": [],
      "source": [
        "new_df1.head(10)"
      ]
    },
    {
      "cell_type": "code",
      "execution_count": null,
      "id": "e0249cf9",
      "metadata": {
        "id": "e0249cf9"
      },
      "outputs": [],
      "source": []
    },
    {
      "cell_type": "code",
      "execution_count": null,
      "id": "945539b6",
      "metadata": {
        "id": "945539b6"
      },
      "outputs": [],
      "source": [
        "\n",
        "droppa=['Annual CO₂ emissions including land-use change','Entity','Code']\n",
        "new_df1=new_df1.drop(droppa,axis=1)"
      ]
    },
    {
      "cell_type": "code",
      "execution_count": null,
      "id": "77c95d9f",
      "metadata": {
        "id": "77c95d9f"
      },
      "outputs": [],
      "source": [
        "new_df1.head()"
      ]
    },
    {
      "cell_type": "code",
      "execution_count": null,
      "id": "0ca1280a",
      "metadata": {
        "id": "0ca1280a"
      },
      "outputs": [],
      "source": [
        "fig, axs = plt.subplots(3, 3, figsize=(15, 10))\n",
        "\n",
        "# Flatten the axs array to make it easier to access individual subplots\n",
        "axs = axs.flatten()\n",
        "\n",
        "# Plot the trend of each column with respect to CO2 emissions\n",
        "for i, column in enumerate(['renewables', 'bioenergy', 'solar', 'wind', 'hydro', 'nuclear', 'oil', 'gas', 'coal']):\n",
        "    axs[i].plot(new_df1.index, new_df1[column], label=column)\n",
        "    axs[i].plot(new_df1.index, new_df1['CO2_emissions'], color='red', linestyle='--', label='CO2 Emissions')\n",
        "    axs[i].set_title(f'Trend of {column.capitalize()} and CO2 Emissions Over Time')\n",
        "    axs[i].set_xlabel('Date')\n",
        "    axs[i].set_ylabel('Production / Emissions')\n",
        "    axs[i].legend()\n",
        "    axs[i].grid(True)\n",
        "\n",
        "# Adjust layout\n",
        "plt.tight_layout()\n",
        "plt.show()"
      ]
    },
    {
      "cell_type": "code",
      "execution_count": null,
      "id": "25f249f3",
      "metadata": {
        "id": "25f249f3"
      },
      "outputs": [],
      "source": [
        "# Create subplots\n",
        "fig, axs = plt.subplots(3, 3, figsize=(15, 10))\n",
        "\n",
        "# Flatten the axs array to make it easier to access individual subplots\n",
        "axs = axs.flatten()\n",
        "\n",
        "# Plot the trend of each column with respect to CO2 emissions\n",
        "for i, column in enumerate(['renewables', 'bioenergy', 'solar', 'wind', 'hydro', 'nuclear', 'oil', 'gas', 'coal']):\n",
        "    axs[i].plot(new_df1.index, new_df1[column], label=column)\n",
        "    axs[i].plot(new_df1.index, new_df1['CO2_emissions'], color='red', linestyle='--', label='CO2 Emissions')\n",
        "    axs[i].set_title(f'Trend of {column.capitalize()} and CO2 Emissions Over Time')\n",
        "    axs[i].set_xlabel('Date')\n",
        "    axs[i].set_ylabel('Production / Emissions')\n",
        "    axs[i].legend()\n",
        "    axs[i].grid(True)\n",
        "\n",
        "    # Set consistent y-axis limits for better visualization\n",
        "    max_value = max(new_df1[column].max(), new_df1['CO2_emissions'].max())\n",
        "    min_value = min(new_df1[column].min(), new_df1['CO2_emissions'].min())\n",
        "    axs[i].set_ylim(min_value, max_value)\n",
        "\n",
        "# Adjust layout\n",
        "plt.tight_layout()\n",
        "plt.show()"
      ]
    },
    {
      "cell_type": "code",
      "execution_count": null,
      "id": "946d78c0",
      "metadata": {
        "id": "946d78c0"
      },
      "outputs": [],
      "source": [
        "plt.figure(figsize=(12, 8))\n",
        "for column in new_df1.columns:\n",
        "    if column != 'CO2_emissions':\n",
        "        plt.plot(new_df1['CO2_emissions'], new_df1[column], marker='o', linestyle='-', label=column)\n",
        "\n",
        "# Add labels and title\n",
        "plt.title('Trend of All Columns with Respect to CO2 Emissions Over Time')\n",
        "plt.xlabel('CO2 Emissions')\n",
        "plt.ylabel('Value')\n",
        "plt.legend()\n",
        "plt.grid(True)\n",
        "\n",
        "# Show plot\n",
        "plt.show()"
      ]
    },
    {
      "cell_type": "code",
      "execution_count": null,
      "id": "b4d92a4a",
      "metadata": {
        "id": "b4d92a4a"
      },
      "outputs": [],
      "source": [
        "import matplotlib.pyplot as plt\n",
        "\n",
        "# Assuming df is your DataFrame\n",
        "\n",
        "# Create subplots\n",
        "fig, axes = plt.subplots(2, 1, figsize=(10, 10))\n",
        "\n",
        "# Plot CO2 emissions\n",
        "axes[0].plot(new_df1.index,new_df1['CO2_emissions'], color='blue', marker='o', linestyle='-', label='CO2 Emissions')\n",
        "axes[0].set_title('CO2 Emissions Over Time')\n",
        "axes[0].set_xlabel('Year')\n",
        "axes[0].set_ylabel('CO2 Emissions')\n",
        "axes[0].legend()\n",
        "axes[0].grid(True)\n",
        "\n",
        "# Plot other columns\n",
        "for column in new_df1.columns:\n",
        "    if column != 'CO2_emissions':\n",
        "        axes[1].plot(new_df1.index, new_df1[column],new_df1['CO2_emissions'], label=column)\n",
        "\n",
        "axes[1].set_title('Trend of Other Columns Over Time')\n",
        "axes[1].set_xlabel('Year')\n",
        "axes[1].set_ylabel('Value')\n",
        "axes[1].legend()\n",
        "axes[1].grid(True)\n",
        "\n",
        "# Adjust layout\n",
        "plt.tight_layout()\n",
        "plt.show()"
      ]
    },
    {
      "cell_type": "code",
      "execution_count": null,
      "id": "7c99d21c",
      "metadata": {
        "id": "7c99d21c"
      },
      "outputs": [],
      "source": [
        "new_df1.isnull().sum()"
      ]
    },
    {
      "cell_type": "code",
      "execution_count": null,
      "id": "0e312a92",
      "metadata": {
        "id": "0e312a92"
      },
      "outputs": [],
      "source": []
    },
    {
      "cell_type": "code",
      "execution_count": null,
      "id": "931223fb",
      "metadata": {
        "id": "931223fb"
      },
      "outputs": [],
      "source": [
        "columns_to_scale = ['renewables', 'bioenergy', 'solar', 'wind', 'hydro', 'nuclear', 'oil', 'gas', 'coal', 'CO2_emissions']\n",
        "\n",
        "# Create a StandardScaler object\n",
        "scaler = StandardScaler()\n",
        "\n",
        "# Fit the scaler to the selected columns and transform the data\n",
        "scaled_data = scaler.fit_transform(new_df1[columns_to_scale])\n",
        "\n",
        "# Convert the scaled data back to a DataFrame\n",
        "scaled_new_df = pd.DataFrame(scaled_data, columns=columns_to_scale, index=new_df1.index)\n"
      ]
    },
    {
      "cell_type": "code",
      "execution_count": null,
      "id": "854d0be5",
      "metadata": {
        "id": "854d0be5"
      },
      "outputs": [],
      "source": []
    },
    {
      "cell_type": "code",
      "execution_count": null,
      "id": "ff7d024a",
      "metadata": {
        "id": "ff7d024a"
      },
      "outputs": [],
      "source": []
    },
    {
      "cell_type": "code",
      "execution_count": null,
      "id": "44ba3177",
      "metadata": {
        "scrolled": true,
        "id": "44ba3177"
      },
      "outputs": [],
      "source": [
        "fig, axes = plt.subplots(len(new_df1.columns) - 1, 1, figsize=(10, 10))\n",
        "\n",
        "# Plot each column with respect to CO2 emissions\n",
        "for i, column in enumerate(new_df1.columns):\n",
        "    if column != 'CO2_emissions':\n",
        "        axes[i - 1].plot(new_df1.index, new_df1[column], label=column)\n",
        "        axes[i - 1].plot(new_df1.index, new_df1['CO2_emissions'], color='red', linestyle='--', label='CO2 Emissions')\n",
        "        axes[i - 1].set_title(f'Trend of {column.capitalize()} and CO2 Emissions Over Time')\n",
        "        axes[i - 1].set_xlabel('Year')\n",
        "        axes[i - 1].set_ylabel('Value')\n",
        "        axes[i - 1].legend()\n",
        "        axes[i - 1].grid(True)\n",
        "\n",
        "# Adjust layout\n",
        "plt.tight_layout()\n",
        "plt.show()"
      ]
    },
    {
      "cell_type": "code",
      "execution_count": null,
      "id": "0a19e909",
      "metadata": {
        "id": "0a19e909"
      },
      "outputs": [],
      "source": []
    },
    {
      "cell_type": "code",
      "execution_count": null,
      "id": "d1e2bbf1",
      "metadata": {
        "id": "d1e2bbf1"
      },
      "outputs": [],
      "source": [
        "fig, axs = plt.subplots(2, 1, figsize=(10, 10))\n",
        "\n",
        "# Plot trend of solar production\n",
        "axs[0].plot(new_df1.index, new_df1['solar'], color='orange', marker='o', linestyle='-', label='Solar Production')\n",
        "axs[0].set_title('Trend of Solar Production Over Time')\n",
        "axs[0].set_xlabel('Year')\n",
        "axs[0].set_ylabel('Solar Production')\n",
        "axs[0].legend()\n",
        "axs[0].grid(True)\n",
        "\n",
        "# Plot trend of CO2 emissions\n",
        "axs[1].plot(new_df1.index, new_df1['CO2_emissions'], color='blue', marker='o', linestyle='-', label='CO2 Emissions')\n",
        "axs[1].set_title('Trend of CO2 Emissions Over Time')\n",
        "axs[1].set_xlabel('Year')\n",
        "axs[1].set_ylabel('CO2 Emissions')\n",
        "axs[1].legend()\n",
        "axs[1].grid(True)\n",
        "\n",
        "# Adjust layout\n",
        "plt.tight_layout()\n",
        "plt.show()"
      ]
    },
    {
      "cell_type": "code",
      "execution_count": null,
      "id": "e6651806",
      "metadata": {
        "id": "e6651806"
      },
      "outputs": [],
      "source": [
        "plt.figure(figsize=(10, 6))\n",
        "\n",
        "# Plot trend of solar production\n",
        "plt.plot(scaled_new_df.index, scaled_new_df['solar'], color='orange', marker='o', linestyle='-', label='Solar Production')\n",
        "\n",
        "# Plot trend of CO2 emissions\n",
        "plt.plot(scaled_new_df.index, scaled_new_df['CO2_emissions'], color='blue', marker='o', linestyle='-', label='CO2 Emissions')\n",
        "\n",
        "# Add titles and labels\n",
        "plt.title('Trend of Solar Production and CO2 Emissions Over Time')\n",
        "plt.xlabel('Year')\n",
        "plt.ylabel('Value')\n",
        "\n",
        "# Add a legend\n",
        "plt.legend()\n",
        "\n",
        "# Add gridlines\n",
        "plt.grid(True)\n",
        "\n",
        "# Show the plot\n",
        "plt.tight_layout()\n",
        "plt.show()"
      ]
    },
    {
      "cell_type": "code",
      "execution_count": null,
      "id": "9f07291d",
      "metadata": {
        "id": "9f07291d"
      },
      "outputs": [],
      "source": [
        "# Create subplots\n",
        "fig, axs = plt.subplots(3, 3, figsize=(15, 10))\n",
        "\n",
        "# Flatten the axs array to make it easier to access individual subplots\n",
        "axs = axs.flatten()\n",
        "\n",
        "# Plot the trend of each column with respect to CO2 emissions\n",
        "for i, column in enumerate(['renewables', 'bioenergy', 'solar', 'wind', 'hydro', 'nuclear', 'oil', 'gas', 'coal']):\n",
        "    axs[i].plot(scaled_new_df.index, scaled_new_df[column], label=column)\n",
        "    axs[i].plot(scaled_new_df.index, scaled_new_df['CO2_emissions'], color='red', linestyle='--', label='CO2 Emissions')\n",
        "    axs[i].set_title(f'Trend of {column.capitalize()} and CO2 Emissions Over Time')\n",
        "    axs[i].set_xlabel('Date')\n",
        "    axs[i].set_ylabel('Production / Emissions')\n",
        "    axs[i].legend()\n",
        "    axs[i].grid(True)\n",
        "\n",
        "\n",
        "\n",
        "# Adjust layout\n",
        "plt.tight_layout()\n",
        "plt.show()"
      ]
    },
    {
      "cell_type": "code",
      "execution_count": null,
      "id": "a7fcbf4a",
      "metadata": {
        "id": "a7fcbf4a"
      },
      "outputs": [],
      "source": [
        "# Split data into train and test sets\n",
        "train_size = int(len(scaled_new_df) * 0.8)\n",
        "train, test = scaled_new_df.iloc[:train_size],scaled_new_df.iloc[train_size:]\n",
        "\n",
        "# SARIMA model\n",
        "order = (2, 1, 0)  # ARIMA order\n",
        "seasonal_order = (2, 1, 0, 12)  # Seasonal order\n",
        "sarima_model = SARIMAX(train['CO2_emissions'], order=order, seasonal_order=seasonal_order)\n",
        "sarima_results = sarima_model.fit()\n",
        "sarima_forecast = sarima_results.forecast(steps=len(test))\n",
        "sarima_rmse = np.sqrt(mean_squared_error(test['CO2_emissions'], sarima_forecast))\n",
        "print(\"SARIMA RMSE:\", sarima_rmse)\n",
        "\n",
        "# SARIMAX model with exogenous variables\n",
        "exog_train = train[[\"renewables\",\"bioenergy\",\"solar\",\"wind\",\"hydro\",\"nuclear\",\"oil\",\"gas\",\"coal\"]]  # Example: exogenous variables\n",
        "exog_test = test[[\"renewables\",\"bioenergy\",\"solar\",\"wind\",\"hydro\",\"nuclear\",\"oil\",\"gas\",\"coal\"]]\n",
        "sarimax_model = SARIMAX(train['CO2_emissions'], order=order, seasonal_order=seasonal_order, exog=exog_train)\n",
        "sarimax_results = sarimax_model.fit()\n",
        "sarimax_forecast = sarimax_results.forecast(steps=len(test), exog=exog_test)\n",
        "sarimax_rmse = np.sqrt(mean_squared_error(test['CO2_emissions'], sarimax_forecast))\n",
        "print(\"SARIMAX RMSE:\", sarimax_rmse)\n",
        "\n",
        "# Machine learning-based model (Random Forest)\n",
        "rf_model = RandomForestRegressor(n_estimators=100)\n",
        "X_train, y_train = train[[\"renewables\",\"bioenergy\",\"solar\",\"wind\",\"hydro\",\"nuclear\",\"oil\",\"gas\",\"coal\"]], train['CO2_emissions']\n",
        "X_test, y_test = test[[\"renewables\",\"bioenergy\",\"solar\",\"wind\",\"hydro\",\"nuclear\",\"oil\",\"gas\",\"coal\"]], test['CO2_emissions']\n",
        "rf_model.fit(X_train, y_train)\n",
        "rf_forecast = rf_model.predict(X_test)\n",
        "rf_rmse = np.sqrt(mean_squared_error(y_test, rf_forecast))\n",
        "print(\"Random Forest RMSE:\", rf_rmse)"
      ]
    },
    {
      "cell_type": "code",
      "execution_count": null,
      "id": "20de7533",
      "metadata": {
        "id": "20de7533"
      },
      "outputs": [],
      "source": [
        "plt.plot(test.index, test['CO2_emissions'], label='Actual', color='black')\n",
        "\n",
        "# Plotting SARIMA forecast\n",
        "plt.plot(test.index, sarima_forecast, label='SARIMA Forecast', color='blue')\n",
        "\n",
        "# Plotting SARIMAX forecast\n",
        "plt.plot(test.index, sarimax_forecast, label='SARIMAX Forecast', color='green')\n",
        "\n",
        "# Plotting Random Forest forecast\n",
        "plt.plot(test.index, rf_forecast, label='Random Forest Forecast', color='red')\n",
        "\n",
        "plt.xlabel('Date')\n",
        "plt.ylabel('CO2 Emissions')\n",
        "plt.title('Forecasting CO2 Emissions')\n",
        "plt.legend()\n",
        "plt.show()"
      ]
    },
    {
      "cell_type": "code",
      "execution_count": null,
      "id": "2174c378",
      "metadata": {
        "id": "2174c378"
      },
      "outputs": [],
      "source": [
        "plt.figure(figsize=(10, 6))\n",
        "plt.scatter(scaled_new_df['renewables'], scaled_new_df['CO2_emissions'])\n",
        "plt.title('Renewables vs. CO2 Emissions')\n",
        "plt.xlabel('Renewables')\n",
        "plt.ylabel('CO2 Emissions')\n",
        "plt.grid(True)\n",
        "plt.show()\n",
        "\n",
        "# Scatter plot for bioenergy vs. CO2 emissions\n",
        "plt.figure(figsize=(10, 6))\n",
        "plt.scatter(scaled_new_df['bioenergy'],scaled_new_df['CO2_emissions'])\n",
        "plt.title('Bioenergy vs. CO2 Emissions')\n",
        "plt.xlabel('Bioenergy')\n",
        "plt.ylabel('CO2 Emissions')\n",
        "plt.grid(True)\n",
        "plt.show()\n",
        "\n",
        "# Repeat the above steps for solar, wind, hydro, nuclear, oil, gas, and coal columns\n",
        "# ...\n",
        "\n",
        "# Line plot showing the trend of each column over time\n",
        "plt.figure(figsize=(10, 6))\n",
        "for column in ['renewables', 'bioenergy', 'solar', 'wind', 'hydro', 'nuclear', 'oil', 'gas', 'coal']:\n",
        "    plt.plot(scaled_new_df.index, scaled_new_df[column], label=column)\n",
        "plt.title('Trend of Energy Sources Over Time')\n",
        "plt.xlabel('Date')\n",
        "plt.ylabel('Energy Production')\n",
        "plt.legend()\n",
        "plt.grid(True)\n",
        "plt.show()"
      ]
    },
    {
      "cell_type": "code",
      "execution_count": null,
      "id": "f81d1f4e",
      "metadata": {
        "id": "f81d1f4e"
      },
      "outputs": [],
      "source": []
    },
    {
      "cell_type": "code",
      "execution_count": null,
      "id": "62da2d8f",
      "metadata": {
        "id": "62da2d8f"
      },
      "outputs": [],
      "source": []
    },
    {
      "cell_type": "code",
      "execution_count": null,
      "id": "b9809be2",
      "metadata": {
        "id": "b9809be2"
      },
      "outputs": [],
      "source": [
        "# Create exogenous variables for the next 10 years\n",
        "future_exog = pd.DataFrame(index=pd.date_range(start=test.index[-1], periods=10, freq='Y'), columns=exog_train.columns)\n",
        "\n",
        "# SARIMAX forecast for the next 10 years\n",
        "sarimax_future_forecast = sarimax_results.forecast(steps=10, exog=future_exog)\n",
        "\n",
        "# Random Forest forecast for the next 10 years\n",
        "rf_future_forecast = rf_model.predict(future_exog)\n",
        "\n",
        "# Print the forecasted values\n",
        "print(\"\\nSARIMAX Future Forecast:\\n\", sarimax_future_forecast)\n",
        "print(\"\\nRandom Forest Future Forecast:\\n\", rf_future_forecast)"
      ]
    },
    {
      "cell_type": "code",
      "execution_count": null,
      "id": "0a746790",
      "metadata": {
        "id": "0a746790"
      },
      "outputs": [],
      "source": []
    },
    {
      "cell_type": "code",
      "execution_count": null,
      "id": "7381df5a",
      "metadata": {
        "id": "7381df5a"
      },
      "outputs": [],
      "source": []
    },
    {
      "cell_type": "code",
      "execution_count": null,
      "id": "77fb6da1",
      "metadata": {
        "id": "77fb6da1"
      },
      "outputs": [],
      "source": []
    }
  ],
  "metadata": {
    "kernelspec": {
      "display_name": "Python 3 (ipykernel)",
      "language": "python",
      "name": "python3"
    },
    "language_info": {
      "codemirror_mode": {
        "name": "ipython",
        "version": 3
      },
      "file_extension": ".py",
      "mimetype": "text/x-python",
      "name": "python",
      "nbconvert_exporter": "python",
      "pygments_lexer": "ipython3",
      "version": "3.11.7"
    },
    "colab": {
      "provenance": [],
      "include_colab_link": true
    }
  },
  "nbformat": 4,
  "nbformat_minor": 5
}